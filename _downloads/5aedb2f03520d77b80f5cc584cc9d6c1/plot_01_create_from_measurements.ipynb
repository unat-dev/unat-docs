{
  "cells": [
    {
      "cell_type": "markdown",
      "metadata": {},
      "source": [
        "\n\n# Math Operations\n\nIt is often the case where measurements of an experiment are collected ...\n"
      ]
    },
    {
      "cell_type": "markdown",
      "metadata": {},
      "source": [
        "## First steps with the samples\n\nInitially, imagine that you have been given this\n:download:`csv file <../../__data/antenna_samples_freq_17.00GHz.csv>`\ncontaining the field samples of the antenna collected at 17.00 GHz.\nThe table in the file has the following six columns:\n\n- ``theta_deg`` : denotes the polar angle $\\theta$ (in degrees) of the direction at\n  which the sample has been measured.\n\n- ``phi_deg`` : denotes the azimuthal angle $\\phi$ (in degrees) of the direction at\n  which the sample has been measured.\n\n- ``E_theta_real_mV`` : denotes the real part of vertical component $\\MEN_\\theta$ (in mV)\n  of the normalised electric phasor field measured at the direction $\\pare{\\theta, \\phi}$.\n\n- ``E_theta_imag_mV`` : denotes the imaginary part of vertical component $\\MEN_\\theta$ (in mV)\n  of the normalised electric phasor field measured at the direction $\\pare{\\theta, \\phi}$.\n\n- ``E_phi_real_mV`` : denotes the real part of horizontal component $\\MEN_\\phi$ (in mV)\n  of the normalised electric phasor field measured at the direction $\\pare{\\theta, \\phi}$.\n\n- ``E_phi_imag_mV`` : denotes the imaginary part of horizontal component $\\MEN_\\phi$ (in mV)\n  of the normalised electric phasor field measured at the direction $\\pare{\\theta, \\phi}$.\n\nYou should be able to create a simple function to read such file and return the data as\n[quantities](https://docs.astropy.org/en/stable/units/) as follows:\n\n"
      ]
    },
    {
      "cell_type": "code",
      "execution_count": null,
      "metadata": {
        "collapsed": false
      },
      "outputs": [],
      "source": [
        "import numpy\n\n\nprint(numpy.random.randn(3, 3))"
      ]
    },
    {
      "cell_type": "markdown",
      "metadata": {},
      "source": [
        "## Plotting something cool\n\nThe measurements package provides the :func:`plot_samples_2D <aftk.measurements.plot_samples_2D>`\nfunction, which plots the magnitude of total field and its components in a heatmap alongside the\ndistribution of the sampling directions.\n\n"
      ]
    },
    {
      "cell_type": "code",
      "execution_count": null,
      "metadata": {
        "collapsed": false
      },
      "outputs": [],
      "source": [
        "from matplotlib import pyplot"
      ]
    },
    {
      "cell_type": "code",
      "execution_count": null,
      "metadata": {
        "collapsed": false
      },
      "outputs": [],
      "source": [
        "figure, axes = pyplot.subplots()\n\nx = numpy.random.randn(1000)\ny = numpy.random.randn(1000)\n\na = numpy.cumsum(x)\nb = numpy.cumsum(y)\n\naxes.plot(a, b, '.')"
      ]
    }
  ],
  "metadata": {
    "kernelspec": {
      "display_name": "Python 3",
      "language": "python",
      "name": "python3"
    },
    "language_info": {
      "codemirror_mode": {
        "name": "ipython",
        "version": 3
      },
      "file_extension": ".py",
      "mimetype": "text/x-python",
      "name": "python",
      "nbconvert_exporter": "python",
      "pygments_lexer": "ipython3",
      "version": "3.12.1"
    }
  },
  "nbformat": 4,
  "nbformat_minor": 0
}